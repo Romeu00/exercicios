{
 "cells": [
  {
   "cell_type": "code",
   "execution_count": 1,
   "id": "b6d8b868-f86a-4684-adab-a8db9ed6605a",
   "metadata": {},
   "outputs": [
    {
     "name": "stdout",
     "output_type": "stream",
     "text": [
      "Lista: [0, 1, 2, 3, 4, 5, 6, 7, 8, 9, 10, 11, 12, 13, 14, 15]\n",
      "Printe a lista reversa: [15, 14, 13, 12, 11, 10, 9, 8, 7, 6, 5, 4, 3, 2, 1, 0]\n",
      "Selecione os elementos de índice 1 a 9: [1, 2, 3, 4, 5, 6, 7, 8]\n",
      "Selecione somente os elementos de índice impar: [1, 3, 5, 7, 9, 11, 13, 15]\n"
     ]
    }
   ],
   "source": [
    "lista = [0,1,2,3,4,5,6,7,8,9,10,11,12,13,14,15]\n",
    "print(\"Lista: \" + str(lista))\n",
    "print (\"Printe a lista reversa: \" + str(lista[::-1]))\n",
    "print (\"Selecione os elementos de índice 1 a 9: \" + str(lista[1:9]))\n",
    "print (\"Selecione somente os elementos de índice impar: \" + str(lista[1::2]))"
   ]
  },
  {
   "cell_type": "code",
   "execution_count": null,
   "id": "0aba1003-295f-47a4-a403-9962b99489a1",
   "metadata": {},
   "outputs": [],
   "source": []
  }
 ],
 "metadata": {
  "kernelspec": {
   "display_name": "Python 3 (ipykernel)",
   "language": "python",
   "name": "python3"
  },
  "language_info": {
   "codemirror_mode": {
    "name": "ipython",
    "version": 3
   },
   "file_extension": ".py",
   "mimetype": "text/x-python",
   "name": "python",
   "nbconvert_exporter": "python",
   "pygments_lexer": "ipython3",
   "version": "3.11.2"
  }
 },
 "nbformat": 4,
 "nbformat_minor": 5
}
