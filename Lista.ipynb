{
 "cells": [
  {
   "cell_type": "code",
   "execution_count": null,
   "id": "245ac9ff-5bc7-4b21-926c-30cc0e276292",
   "metadata": {},
   "outputs": [
    {
     "name": "stdout",
     "output_type": "stream",
     "text": [
      "Esses são todos os produtos dentro da lista de produtos da loja:\n",
      "\n",
      "- Banana, Laranja, Bergamota, Manga\n",
      "\n"
     ]
    },
    {
     "name": "stdin",
     "output_type": "stream",
     "text": [
      "Qual produto você deseja pesquisar? Banana\n"
     ]
    },
    {
     "name": "stdout",
     "output_type": "stream",
     "text": [
      "Foi pesquisado: \"Banana\"\n",
      "Temos o produto Banana, ele custa 1.0\n",
      "\n"
     ]
    },
    {
     "name": "stdin",
     "output_type": "stream",
     "text": [
      "Qual produto você deseja pesquisar? Laranja\n"
     ]
    },
    {
     "name": "stdout",
     "output_type": "stream",
     "text": [
      "Foi pesquisado: \"Laranja\"\n",
      "Temos o produto Laranja, ele custa 0.7\n",
      "\n"
     ]
    }
   ],
   "source": [
    "lista_de_objetos = {'Banana': 1.00, 'Laranja': 0.70, 'Bergamota': 1.00, 'Manga': 1.70}\n",
    "\n",
    "def printandoprodutos() :\n",
    "    print('Esses são todos os produtos dentro da lista de produtos da loja:\\n')\n",
    "    nomesprodutos = \", \".join(lista_de_objetos.keys())\n",
    "    print(f'- {nomesprodutos}\\n')\n",
    "    \n",
    "    \n",
    "def procurandoprodutos() :\n",
    "    produto_escolhido = input('Qual produto você deseja pesquisar?')\n",
    "    produto_encontrado = lista_de_objetos.get(produto_escolhido)\n",
    "    \n",
    "    if produto_encontrado :\n",
    "        print(f'Foi pesquisado: \\\"{produto_escolhido}\\\"')\n",
    "        print(f'Temos o produto {produto_escolhido}, ele custa {produto_encontrado}\\n')\n",
    "        procurandoprodutos()\n",
    "    else :\n",
    "        print(f'Foi pesquisado:\\\"{produto_escolhido}\"')\n",
    "        print('Esse produto não está disponivel :')\n",
    "        printandoprodutos()\n",
    "        procurandoprodutos()\n",
    "        \n",
    "printandoprodutos()\n",
    "procurandoprodutos()"
   ]
  }
 ],
 "metadata": {
  "kernelspec": {
   "display_name": "Python 3 (ipykernel)",
   "language": "python",
   "name": "python3"
  },
  "language_info": {
   "codemirror_mode": {
    "name": "ipython",
    "version": 3
   },
   "file_extension": ".py",
   "mimetype": "text/x-python",
   "name": "python",
   "nbconvert_exporter": "python",
   "pygments_lexer": "ipython3",
   "version": "3.11.2"
  }
 },
 "nbformat": 4,
 "nbformat_minor": 5
}
