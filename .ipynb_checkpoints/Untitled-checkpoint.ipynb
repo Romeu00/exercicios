{
 "cells": [
  {
   "cell_type": "code",
   "execution_count": null,
   "id": "245ac9ff-5bc7-4b21-926c-30cc0e276292",
   "metadata": {},
   "outputs": [
    {
     "name": "stdout",
     "output_type": "stream",
     "text": [
      "Esses são todos os produtos dentro da lista de produtos da loja:\n",
      "\n",
      "- Banana, Laranja, Bergamota, Manga\n",
      "\n"
     ]
    }
   ],
   "source": [
    "lista_de_objetos = {'Banana': 1.00, 'Laranja': 0.70, 'Bergamota': 1.00, 'Manga': 1.70}\n",
    "\n",
    "def printandoprodutos() :\n",
    "    print('Esses são todos os produtos dentro da lista de produtos da loja:\\n')\n",
    "    nomesprodutos = \", \".join(lista_de_objetos.keys())\n",
    "    print(f'- {nomesprodutos}\\n')\n",
    "    \n",
    "    \n",
    "def procurandoprodutos() :\n",
    "    produtoescolhido = input('Qual produto você deseja pesquisar?')\n",
    "    produtoencontrado = lista_de_objetos.get(produtoescolhido.keys())\n",
    "    \n",
    "    if produtoencontrado :\n",
    "        print(f'Foi pesquisado: \\\"{produtoescolhido}\\\"')\n",
    "        print(f'Temos o produto {produtoescolhido}, ele custa {produtoencontrado}\\n')\n",
    "        procurandoprodutos()\n",
    "    else :\n",
    "        print(f'Foi pesquisado:\\\"{produtoescolhido}\"')\n",
    "        print('Esse produto não está disponivel :')\n",
    "        printandoprodutos()\n",
    "        procurandoprodutos()\n",
    "        \n",
    "printandoprodutos()\n",
    "procurandoprodutos()"
   ]
  },
  {
   "cell_type": "code",
   "execution_count": null,
   "id": "eaea20c4-4fd8-433c-8064-e6553705c4f1",
   "metadata": {},
   "outputs": [],
   "source": [
    "lista_de_objetos = {\"Maçã\":1,00, \"Laranja\"}"
   ]
  }
 ],
 "metadata": {
  "kernelspec": {
   "display_name": "Python 3 (ipykernel)",
   "language": "python",
   "name": "python3"
  },
  "language_info": {
   "codemirror_mode": {
    "name": "ipython",
    "version": 3
   },
   "file_extension": ".py",
   "mimetype": "text/x-python",
   "name": "python",
   "nbconvert_exporter": "python",
   "pygments_lexer": "ipython3",
   "version": "3.11.2"
  }
 },
 "nbformat": 4,
 "nbformat_minor": 5
}
