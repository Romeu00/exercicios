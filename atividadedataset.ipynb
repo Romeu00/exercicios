{
 "cells": [
  {
   "cell_type": "code",
   "execution_count": 6,
   "id": "ee3a43d6-802e-404b-b745-c2d331190059",
   "metadata": {},
   "outputs": [
    {
     "name": "stdout",
     "output_type": "stream",
     "text": [
      "O preço mínimo de um carro em 2023 é: R$ 1985.0\n",
      "O preço máximo de um carro em 2023 é: R$ 8600000.0\n",
      "Carros que custam entre 5.000 e 7.000 reais em 2023:\n",
      "                  brand                          model  avg_price_brl\n",
      "575733             Baby               Buggy 1.6 2-Lug.         5116.0\n",
      "575762             Baby  Buggy 1.6/ TST/ RS 1.6 4-Lug.         6071.0\n",
      "575763             Baby  Buggy 1.6/ TST/ RS 1.6 4-Lug.         5369.0\n",
      "575764             Baby  Buggy 1.6/ TST/ RS 1.6 4-Lug.         5197.0\n",
      "576653              BRM         Buggy/M-8/M-8 Long 1.6         6767.0\n",
      "...                 ...                            ...            ...\n",
      "596810  VW - VolksWagen   Gol Furgão 1.6 Mi/ 1.6i/ 1.6         5655.0\n",
      "598462            Volvo         460 GLT 2.0/ Turbo 1.8         6927.0\n",
      "598463            Volvo         460 GLT 2.0/ Turbo 1.8         6648.0\n",
      "598553            Volvo                  440 Turbo 1.8         6435.0\n",
      "598554            Volvo                  440 Turbo 1.8         6257.0\n",
      "\n",
      "[456 rows x 3 columns]\n"
     ]
    }
   ],
   "source": [
    "import pandas as pd\n",
    "\n",
    "df = pd.read_csv(\"fipe_cars.csv\")\n",
    "\n",
    "df_2023 = df[df[\"year_of_reference\"] == 2023]\n",
    "\n",
    "23\n",
    "preco_minimo = df_2023[\"avg_price_brl\"].min()\n",
    "print(f\"O preço mínimo de um carro em 2023 é: R$ {preco_minimo}\")\n",
    "\n",
    "# Preço máximo de um carro em 2023\n",
    "preco_maximo = df_2023[\"avg_price_brl\"].max()\n",
    "print(f\"O preço máximo de um carro em 2023 é: R$ {preco_maximo}\")\n",
    "\n",
    "# Carros entre 5.000 e 7.000 reais em 2023\n",
    "carros_5k_7k = df_2023[(df_2023[\"avg_price_brl\"] >= 5000) & (df_2023[\"avg_price_brl\"] <= 7000)]\n",
    "print(\"Carros que custam entre 5.000 e 7.000 reais em 2023:\")\n",
    "print(carros_5k_7k[[\"brand\", \"model\", \"avg_price_brl\"]])\n"
   ]
  },
  {
   "cell_type": "code",
   "execution_count": null,
   "id": "1c3f469b-7531-4401-8ff5-3cc3604fa405",
   "metadata": {},
   "outputs": [],
   "source": []
  }
 ],
 "metadata": {
  "kernelspec": {
   "display_name": "Python 3 (ipykernel)",
   "language": "python",
   "name": "python3"
  },
  "language_info": {
   "codemirror_mode": {
    "name": "ipython",
    "version": 3
   },
   "file_extension": ".py",
   "mimetype": "text/x-python",
   "name": "python",
   "nbconvert_exporter": "python",
   "pygments_lexer": "ipython3",
   "version": "3.11.2"
  }
 },
 "nbformat": 4,
 "nbformat_minor": 5
}
