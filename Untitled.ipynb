{
 "cells": [
  {
   "cell_type": "code",
   "execution_count": 6,
   "id": "245ac9ff-5bc7-4b21-926c-30cc0e276292",
   "metadata": {},
   "outputs": [
    {
     "name": "stdout",
     "output_type": "stream",
     "text": [
      "o produto banana está disponivel, preço dele é: 0.60\n",
      "o produto laranja está disponivel, preço dele é: 0.70\n",
      "o produto bergamota está disponivel, preço dele é: 1.00\n",
      "o produto manga está disponivel, preço dele é: 1.50\n"
     ]
    }
   ],
   "source": [
    "produtos = {\"banana\": \"0.60\",\n",
    "           \"laranja\": \"0.70\",\n",
    "           \"bergamota\": \"1.00\",\n",
    "           \"manga\": \"1.50\"}\n",
    "\n",
    "def buscar_produto(nome):\n",
    "    preço = produtos.get(nome)\n",
    "    if preço:\n",
    "        print(f\"o produto {nome} está disponivel, preço dele é: {preço}\")\n",
    "    else:\n",
    "        print(\"produto não encontrado\")\n",
    "\n",
    "# Demonstração\n",
    "buscar_produto(\"banana\")\n",
    "buscar_produto(\"laranja\")\n",
    "buscar_produto(\"bergamota\")\n",
    "buscar_produto(\"manga\")"
   ]
  },
  {
   "cell_type": "code",
   "execution_count": null,
   "id": "0eaaedb7-409b-4f08-bb70-64be18064b79",
   "metadata": {},
   "outputs": [],
   "source": []
  },
  {
   "cell_type": "code",
   "execution_count": null,
   "id": "375afca3-a331-47bd-8fd1-8620ef40d764",
   "metadata": {},
   "outputs": [],
   "source": []
  }
 ],
 "metadata": {
  "kernelspec": {
   "display_name": "Python 3 (ipykernel)",
   "language": "python",
   "name": "python3"
  },
  "language_info": {
   "codemirror_mode": {
    "name": "ipython",
    "version": 3
   },
   "file_extension": ".py",
   "mimetype": "text/x-python",
   "name": "python",
   "nbconvert_exporter": "python",
   "pygments_lexer": "ipython3",
   "version": "3.11.2"
  }
 },
 "nbformat": 4,
 "nbformat_minor": 5
}
